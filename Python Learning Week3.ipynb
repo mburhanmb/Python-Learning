{
 "cells": [
  {
   "cell_type": "code",
   "execution_count": 2,
   "metadata": {},
   "outputs": [
    {
     "name": "stdout",
     "output_type": "stream",
     "text": [
      "Do you have your orignal CNIC?yes\n",
      "He has valid CNIC\n",
      " Is you name present in the voter list?no\n",
      "You are a registered voter\n",
      "You can cast vote\n"
     ]
    }
   ],
   "source": [
    "user_cnic = (input(\"Do you have your orignal CNIC?\").lower())\n",
    "if user_cnic == 'yes' or 'yeah' or 'oh yeah':\n",
    "    print(\"He has valid CNIC\")\n",
    "    voter_list = (input(\" Is you name present in the voter list?\").lower())\n",
    "    if voter_list == 'yes' or 'yeah' or 'oh yeah':\n",
    "        print (\"You are a registered voter\")\n",
    "        print (\"You can cast vote\")\n",
    "    else:\n",
    "        print (\"You cannot cast vote\")\n",
    "else:\n",
    "    print (\"YOU CANNOT CAST VOTE\")"
   ]
  },
  {
   "cell_type": "code",
   "execution_count": null,
   "metadata": {},
   "outputs": [],
   "source": []
  },
  {
   "cell_type": "code",
   "execution_count": 3,
   "metadata": {},
   "outputs": [
    {
     "name": "stdout",
     "output_type": "stream",
     "text": [
      " Are you 18+ ?yes\n",
      "Welcome, You are allowed\n",
      " Do you have the ticket?no\n",
      " Sorry, You're not allowed\n"
     ]
    }
   ],
   "source": [
    "person_age = (input(\" Are you 18+ ?\").lower())\n",
    "if person_age == 'yes':\n",
    "    print (\"Welcome, You are allowed\")\n",
    "    Ticket = (input(\" Do you have the ticket?\").lower())\n",
    "    if Ticket == 'yes':\n",
    "        print (\"Welcome to the Cinema\")\n",
    "    else:\n",
    "        print (\" Sorry, You're not allowed\")\n",
    "else:\n",
    "    print (\"You aren't eligible\")\n",
    " \n"
   ]
  },
  {
   "cell_type": "code",
   "execution_count": 7,
   "metadata": {},
   "outputs": [
    {
     "name": "stdout",
     "output_type": "stream",
     "text": [
      " What is your age ?17\n",
      "You aren't eligible\n"
     ]
    }
   ],
   "source": [
    "person_age = int(input(\" What is your age ?\"))\n",
    "if person_age >= 18 :\n",
    "    print (\"Welcome, You are allowed\")\n",
    "    Ticket_Available = (input(\" Do you have the ticket ?\").lower())\n",
    "    if Ticket_Available == 'yes':\n",
    "        print (\"Welcome to the Cinema\")\n",
    "    else:\n",
    "        print (\" Sorry, You're not allowed\")\n",
    "else:\n",
    "    print (\"You aren't eligible\")\n",
    " \n",
    "    "
   ]
  },
  {
   "cell_type": "code",
   "execution_count": null,
   "metadata": {},
   "outputs": [],
   "source": []
  },
  {
   "cell_type": "code",
   "execution_count": 4,
   "metadata": {},
   "outputs": [
    {
     "name": "stdout",
     "output_type": "stream",
     "text": [
      "Enter a number23\n",
      "Enter another number20\n",
      " 23 is greater than 20\n"
     ]
    }
   ],
   "source": [
    "num1 = int(input(\"Enter a number\"))\n",
    "num2 = int(input(\"Enter another number\"))\n",
    "if num1>num2:\n",
    "    print(f\" {num1} is greater than {num2}\")\n",
    "elif num2>num1:      \n",
    "    print(f\" {num2} is greater than {num1}\")\n",
    "elif num1==num2:\n",
    "    print(f\" {num2} is equal to {num1}\")      "
   ]
  }
 ],
 "metadata": {
  "kernelspec": {
   "display_name": "Python 3",
   "language": "python",
   "name": "python3"
  },
  "language_info": {
   "codemirror_mode": {
    "name": "ipython",
    "version": 3
   },
   "file_extension": ".py",
   "mimetype": "text/x-python",
   "name": "python",
   "nbconvert_exporter": "python",
   "pygments_lexer": "ipython3",
   "version": "3.7.3"
  }
 },
 "nbformat": 4,
 "nbformat_minor": 2
}
