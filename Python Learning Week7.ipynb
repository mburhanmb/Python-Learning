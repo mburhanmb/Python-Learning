{
 "cells": [
  {
   "cell_type": "markdown",
   "metadata": {},
   "source": [
    "# FUNCTIONS"
   ]
  },
  {
   "cell_type": "code",
   "execution_count": 1,
   "metadata": {},
   "outputs": [],
   "source": [
    "def name():\n",
    "    print(\"My name is Burhan\")"
   ]
  },
  {
   "cell_type": "code",
   "execution_count": 2,
   "metadata": {},
   "outputs": [
    {
     "name": "stdout",
     "output_type": "stream",
     "text": [
      "My name is Burhan\n"
     ]
    }
   ],
   "source": [
    "name()"
   ]
  },
  {
   "cell_type": "code",
   "execution_count": 3,
   "metadata": {},
   "outputs": [],
   "source": [
    "def name1(name):\n",
    "    print(\"My name is Muhammad Burhan\")\n",
    "    "
   ]
  },
  {
   "cell_type": "code",
   "execution_count": 4,
   "metadata": {},
   "outputs": [
    {
     "name": "stdout",
     "output_type": "stream",
     "text": [
      "My name is Muhammad Burhan\n"
     ]
    }
   ],
   "source": [
    "name1(name)"
   ]
  },
  {
   "cell_type": "code",
   "execution_count": 5,
   "metadata": {},
   "outputs": [],
   "source": [
    "def cal(a,b):\n",
    "    c = a + b\n",
    "    print(c)"
   ]
  },
  {
   "cell_type": "code",
   "execution_count": 6,
   "metadata": {},
   "outputs": [
    {
     "name": "stdout",
     "output_type": "stream",
     "text": [
      "18\n"
     ]
    }
   ],
   "source": [
    "cal(9,9)"
   ]
  },
  {
   "cell_type": "code",
   "execution_count": 7,
   "metadata": {},
   "outputs": [],
   "source": [
    "def cal1(a,b):\n",
    "    c1 = a-b \n",
    "    return c1\n"
   ]
  },
  {
   "cell_type": "code",
   "execution_count": 8,
   "metadata": {},
   "outputs": [
    {
     "name": "stdout",
     "output_type": "stream",
     "text": [
      "3\n"
     ]
    }
   ],
   "source": [
    "a1  = cal1(9,6) #a1 is saved as 9-6=3 and can be used in program afterwards using that variable a1\n",
    "print(a1)"
   ]
  },
  {
   "cell_type": "code",
   "execution_count": 9,
   "metadata": {},
   "outputs": [
    {
     "data": {
      "text/plain": [
       "3"
      ]
     },
     "execution_count": 9,
     "metadata": {},
     "output_type": "execute_result"
    }
   ],
   "source": [
    "a1\n",
    "\n"
   ]
  },
  {
   "cell_type": "code",
   "execution_count": 10,
   "metadata": {},
   "outputs": [
    {
     "name": "stdout",
     "output_type": "stream",
     "text": [
      "Hello , Umer\n",
      "Hello , Hamza\n",
      "Hello , Farooq\n"
     ]
    }
   ],
   "source": [
    "def name1(friends):\n",
    "    for friend in friends:\n",
    "        a = \"Hello , \" + friend.title()\n",
    "        print(a)\n",
    "        \n",
    "        \n",
    "user =  [ 'umer' , 'hamza' , 'farooq']\n",
    "name1(user)\n"
   ]
  },
  {
   "cell_type": "markdown",
   "metadata": {},
   "source": [
    "# KEYWORD PARAMETER"
   ]
  },
  {
   "cell_type": "code",
   "execution_count": 11,
   "metadata": {},
   "outputs": [
    {
     "name": "stdout",
     "output_type": "stream",
     "text": [
      "My name is Rizwan and my father name is Burhan.\n"
     ]
    }
   ],
   "source": [
    "def family(my_name , f_name):\n",
    "    print(f\"My name is {my_name} and my father name is {f_name}.\")\n",
    "    \n",
    "family(\"Rizwan\",\"Burhan\")"
   ]
  },
  {
   "cell_type": "code",
   "execution_count": 12,
   "metadata": {},
   "outputs": [
    {
     "name": "stdout",
     "output_type": "stream",
     "text": [
      "My name is Burhan and my father name is Rizwan\n"
     ]
    }
   ],
   "source": [
    "def family(my_name , f_name):\n",
    "    print(f\"My name is {my_name} and my father name is {f_name}\")\n",
    "    \n",
    "family(f_name = \"Rizwan\" , my_name = \"Burhan\")   \n",
    "# for each value parameter is attached to it #Keyword argument\n",
    "\n",
    "        \n",
    "       \n",
    "    "
   ]
  },
  {
   "cell_type": "code",
   "execution_count": 13,
   "metadata": {},
   "outputs": [
    {
     "name": "stdout",
     "output_type": "stream",
     "text": [
      "My name is Burhan and my age is 19 and I am a male .\n"
     ]
    }
   ],
   "source": [
    "def my(name , age , gender):\n",
    "    print(f\"My name is {name} and my age is {age} and I am a {gender} .\")\n",
    "    \n",
    "my( name ='Burhan' , age ='19' , gender = 'male')    \n"
   ]
  },
  {
   "cell_type": "markdown",
   "metadata": {},
   "source": [
    "# Default Parameter"
   ]
  },
  {
   "cell_type": "code",
   "execution_count": 14,
   "metadata": {},
   "outputs": [
    {
     "name": "stdout",
     "output_type": "stream",
     "text": [
      "I live in Green Town.\n",
      "I have a Apple phone.\n",
      "I drive Toyota.\n"
     ]
    }
   ],
   "source": [
    "def things(home , mobile = 'Samsung', car = 'Toyota'):\n",
    "    print(f\"I live in {home}.\")\n",
    "    print(f\"I have a {mobile} phone.\")\n",
    "    print(f\"I drive {car}.\")\n",
    "things('Green Town' , 'Apple')\n",
    "# If value is passed then it will overwrite other wise it will take the default value as \n",
    "# defined in the function\n",
    "\n",
    "    \n",
    "    "
   ]
  },
  {
   "cell_type": "code",
   "execution_count": 15,
   "metadata": {},
   "outputs": [
    {
     "name": "stdout",
     "output_type": "stream",
     "text": [
      "I live in Green Town.\n",
      "I have a Apple phone.\n",
      "I drive  .\n"
     ]
    }
   ],
   "source": [
    "def things(home , mobile = ' ', car = ' '):\n",
    "    print(f\"I live in {home}.\")\n",
    "    print(f\"I have a {mobile} phone.\")\n",
    "    print(f\"I drive {car}.\")\n",
    "things('Green Town' , 'Apple')"
   ]
  },
  {
   "cell_type": "code",
   "execution_count": null,
   "metadata": {},
   "outputs": [
    {
     "name": "stdout",
     "output_type": "stream",
     "text": [
      " Muhammad     Burhan \n"
     ]
    }
   ],
   "source": [
    "def name(f_name ,  last_name , middle_name = \" \" ): #ALl deafult parameter should be in the end\n",
    "    print (f\" {f_name}  {middle_name}  {last_name} \")\n",
    "           \n",
    "name(\"Muhammad\" , \"Burhan\")       #positional arguments should be in start    \n",
    " \n"
   ]
  },
  {
   "cell_type": "code",
   "execution_count": null,
   "metadata": {},
   "outputs": [
    {
     "name": "stdout",
     "output_type": "stream",
     "text": [
      " Muhammad    Burhan \n",
      " Muhammad  Rizwan  Burhan \n"
     ]
    }
   ],
   "source": [
    "def name(f_name ,  last_name , middle_name = \"\" ): #ALl deafult parameter should be in the end\n",
    "    print (f\" {f_name}  {middle_name}  {last_name} \")\n",
    "    \n",
    "name(f_name = \"Muhammad\" , last_name = \"Burhan\")\n",
    "name(\"Muhammad\",\"Burhan\",\"Rizwan\")\n"
   ]
  },
  {
   "cell_type": "code",
   "execution_count": null,
   "metadata": {},
   "outputs": [
    {
     "name": "stdout",
     "output_type": "stream",
     "text": [
      "2 3 4\n",
      "1 2 0\n"
     ]
    }
   ],
   "source": [
    "def func1(a,b,c=0):\n",
    "    print (a,b,c)\n",
    "    \n",
    "func1(2,3,4)  \n",
    "func1(1,2)"
   ]
  },
  {
   "cell_type": "code",
   "execution_count": null,
   "metadata": {},
   "outputs": [
    {
     "name": "stdout",
     "output_type": "stream",
     "text": [
      "1 2 (3, 4, 5, 5, 6, 7, 7)\n"
     ]
    }
   ],
   "source": [
    "def func1(a,b,*c):\n",
    "    print (a,b,c)\n",
    "func1(1,2,3,4,5,5,6,7,7)    "
   ]
  },
  {
   "cell_type": "code",
   "execution_count": null,
   "metadata": {},
   "outputs": [
    {
     "name": "stdout",
     "output_type": "stream",
     "text": [
      "1 2 (3, 4, 5, 5, 6, 7, 7)\n"
     ]
    }
   ],
   "source": [
    "def func1(a,b,*c):\n",
    "    print (a,b,c)\n",
    "func1(1,2,3,4,5,5,6,7,7) "
   ]
  },
  {
   "cell_type": "code",
   "execution_count": null,
   "metadata": {},
   "outputs": [],
   "source": [
    "def name(f_name ,l_name , m_name = \"\" ): #ALl deafult parameter should be in the end\n",
    "    if m_name:\n",
    "        full_name = f_name + ' ' + m_name + ' ' + l_name  \n",
    "    else:\n",
    "        full_name = f_name +\" \"+ l_name\n",
    "    return full_name\n"
   ]
  },
  {
   "cell_type": "code",
   "execution_count": null,
   "metadata": {},
   "outputs": [
    {
     "name": "stdout",
     "output_type": "stream",
     "text": [
      "Muhammad Burhan\n"
     ]
    }
   ],
   "source": [
    "a1 = name( \"Muhammad\" , \"Burhan\")\n",
    "print (a1)"
   ]
  },
  {
   "cell_type": "code",
   "execution_count": null,
   "metadata": {},
   "outputs": [
    {
     "name": "stdout",
     "output_type": "stream",
     "text": [
      "Muhammad Rizwan Burhan\n"
     ]
    }
   ],
   "source": [
    "a1 = name( \"Muhammad\" , \"Burhan\" , \"Rizwan\")\n",
    "print (a1)"
   ]
  },
  {
   "cell_type": "markdown",
   "metadata": {},
   "source": [
    "# Using Functions As Variables (which is what they really are)"
   ]
  },
  {
   "cell_type": "code",
   "execution_count": null,
   "metadata": {},
   "outputs": [],
   "source": [
    "def commission(commission):\n",
    "    return commission\n",
    "def basic (basic):\n",
    "    return basic\n"
   ]
  },
  {
   "cell_type": "code",
   "execution_count": null,
   "metadata": {},
   "outputs": [
    {
     "name": "stdout",
     "output_type": "stream",
     "text": [
      "2000\n"
     ]
    }
   ],
   "source": [
    "gross = commission(1000) + basic(1000)\n",
    "print(gross)"
   ]
  },
  {
   "cell_type": "code",
   "execution_count": null,
   "metadata": {},
   "outputs": [],
   "source": [
    "a = input (\" aur saab? \")\n",
    "print (a)"
   ]
  },
  {
   "cell_type": "markdown",
   "metadata": {},
   "source": [
    "# Functions: Local vs. global variables"
   ]
  },
  {
   "cell_type": "code",
   "execution_count": null,
   "metadata": {},
   "outputs": [],
   "source": [
    "totalPay=0 #global variable can be used outside as well inside the code\n",
    "def commissionCalc(salesValue):\n",
    "    if salesValue>10000:\n",
    "         #LOCAL VARIABLE can only be used inside the code \n",
    "        percent = 10 \n",
    "        commission = salesValue/100*percent\n",
    "        return commission\n",
    "def paid(basic):\n",
    "    totalPay = basic + commissionCalc(15000) \n",
    "    return totalPay\n",
    "print (f\"The total pay amount is {paid(12000)} with commission percentage is {percent}\")\n",
    "    "
   ]
  },
  {
   "cell_type": "markdown",
   "metadata": {},
   "source": [
    "# Turning Local variable into Global Variable"
   ]
  },
  {
   "cell_type": "code",
   "execution_count": null,
   "metadata": {},
   "outputs": [],
   "source": []
  },
  {
   "cell_type": "code",
   "execution_count": null,
   "metadata": {},
   "outputs": [],
   "source": []
  },
  {
   "cell_type": "code",
   "execution_count": null,
   "metadata": {},
   "outputs": [],
   "source": [
    "totalPay=0 #global variable can be used outside as well inside the code\n",
    "def commissionCalc(salesValue):\n",
    "    if salesValue>10000:\n",
    "        global percent #making a Local variable as Global\n",
    "        percent = 10 #LOCAL VARIABLE can only be used inside the code\n",
    "        commission = salesValue/100*percent\n",
    "        return commission\n",
    "def paid(basic):\n",
    "    totalPay = basic + commissionCalc(15000) \n",
    "    return totalPay\n",
    "print (f\"The total pay amount is {paid(12000)} with commission percentage is {percent}\")\n",
    "#IS CODE ME GLOBAL KR K BHR BULA FUNCTIONS SY"
   ]
  },
  {
   "cell_type": "code",
   "execution_count": null,
   "metadata": {},
   "outputs": [],
   "source": []
  },
  {
   "cell_type": "code",
   "execution_count": null,
   "metadata": {},
   "outputs": [],
   "source": []
  },
  {
   "cell_type": "code",
   "execution_count": null,
   "metadata": {},
   "outputs": [],
   "source": []
  },
  {
   "cell_type": "markdown",
   "metadata": {},
   "source": [
    "# WHILE LOOP"
   ]
  },
  {
   "cell_type": "code",
   "execution_count": null,
   "metadata": {},
   "outputs": [],
   "source": [
    "a=1 #FOR LOOP is definite\n",
    "while a<10: #While loop can be definite like for loop\n",
    "    print (a, \"a chota hai 10 sy\")\n",
    "    a= a+1 #OR a +=1"
   ]
  },
  {
   "cell_type": "code",
   "execution_count": null,
   "metadata": {},
   "outputs": [],
   "source": [
    "for b in range(1,10):\n",
    "    print (b, \"a chota hai 10 sy\")\n",
    "    b += 1"
   ]
  },
  {
   "cell_type": "code",
   "execution_count": null,
   "metadata": {},
   "outputs": [],
   "source": [
    "name = input (\"Enter your name sir   \")\n",
    "print (f\"Welcome to class Sir ' {name} ' \")"
   ]
  },
  {
   "cell_type": "code",
   "execution_count": null,
   "metadata": {},
   "outputs": [],
   "source": []
  },
  {
   "cell_type": "code",
   "execution_count": null,
   "metadata": {},
   "outputs": [],
   "source": [
    "while True: #infinite\n",
    "    name = input (\"Enter your name sir   \")\n",
    "    print (f\"Welcome to class Sir ' {name} ' \")"
   ]
  },
  {
   "cell_type": "code",
   "execution_count": null,
   "metadata": {},
   "outputs": [],
   "source": [
    "flag = True  #USE flag when you have too limit\n",
    "while flag:\n",
    "    \n",
    "    name = input (\"Enter your name sir   \")\n",
    "    print (f\"Welcome to class Sir ' {name} ' \")\n",
    "    if name == \"hussain\" : #when hussain is entered code is terminated\n",
    "        flag = False "
   ]
  },
  {
   "cell_type": "code",
   "execution_count": null,
   "metadata": {},
   "outputs": [],
   "source": [
    "prompt = \"\\nPlease enter the name of a city you have visited:\"\n",
    "prompt += \"\\n(Enter 'quit' when you are finished. )\"\n",
    "while True:\n",
    "    city = input(prompt)\n",
    "    if city == 'quit':\n",
    "        break\n",
    "    else:\n",
    "        print (\"I'd love to go to \" + city.title() + \"!\")"
   ]
  },
  {
   "cell_type": "code",
   "execution_count": null,
   "metadata": {},
   "outputs": [],
   "source": [
    "topping = \"Please enter the pizza toppings you want to add to your pizza\"\n",
    "topping += \"\\n(Enter 'enough' when finished)\"\n",
    "while True:\n",
    "    Toppings = input(topping)\n",
    "    if Toppings == 'enough':\n",
    "        break\n",
    "    else:\n",
    "        print (f\"This {topping} is being added, Sir ! \")"
   ]
  },
  {
   "cell_type": "code",
   "execution_count": null,
   "metadata": {},
   "outputs": [],
   "source": [
    "list = [\"mayo\" , \"ketchup\" , \"extra cheese\"]\n",
    "topping = \"Please enter the pizza toppings you want to add to your pizza\"\n",
    "topping += \"\\n(Enter 'enough' when finished)\"\n",
    "while True:\n",
    "    Toppings = input(topping)\n",
    "    if Toppings == 'enough':\n",
    "        break\n",
    "    else:\n",
    "        print (f\"This {topping} is being added, Sir ! \")\n",
    "        "
   ]
  },
  {
   "cell_type": "code",
   "execution_count": null,
   "metadata": {},
   "outputs": [],
   "source": [
    "#HOME 7_6 7_7"
   ]
  }
 ],
 "metadata": {
  "kernelspec": {
   "display_name": "Python 3",
   "language": "python",
   "name": "python3"
  },
  "language_info": {
   "codemirror_mode": {
    "name": "ipython",
    "version": 3
   },
   "file_extension": ".py",
   "mimetype": "text/x-python",
   "name": "python",
   "nbconvert_exporter": "python",
   "pygments_lexer": "ipython3",
   "version": "3.7.3"
  }
 },
 "nbformat": 4,
 "nbformat_minor": 2
}
